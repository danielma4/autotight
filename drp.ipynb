{
  "nbformat": 4,
  "nbformat_minor": 0,
  "metadata": {
    "colab": {
      "provenance": []
    },
    "kernelspec": {
      "name": "python3",
      "display_name": "Python 3"
    },
    "language_info": {
      "name": "python"
    }
  },
  "cells": [
    {
      "cell_type": "code",
      "source": [
        "import numpy as np\n",
        "import cvxpy as cp\n",
        "import scipy as sp\n",
        "import math"
      ],
      "metadata": {
        "id": "tkAMWs-xx6VE"
      },
      "execution_count": 1,
      "outputs": []
    },
    {
      "cell_type": "code",
      "source": [
        "!mkdir -p /root/mosek/"
      ],
      "metadata": {
        "id": "KVs26a6SM0pu"
      },
      "execution_count": 2,
      "outputs": []
    },
    {
      "cell_type": "markdown",
      "source": [
        "**Abstract**:\n",
        "\n",
        "In the realm of optimization, the pursuit of optimal solutions among feasible options is central. Typically, optimization involves maximizing or minimizing a function while adhering to specified constraints, a fundamental concept applied across fields such as economics, engineering, and computer science. Among the various optimization categories, convex optimization stands out as particularly potent. It revolves around optimizing convex functions over convex sets, benefiting from the property that local extrema are also global extrema, simplifying optimization using methods like gradient descent. Another notable type is semidefinite programming (SDP), a subset of convex optimization, where linear objective functions are optimized subject to linear constraints, alongside the requirement that the decision variables' symmetric matrix is positive semidefinite—a convex constraint. While real-world problems seldom adhere strictly to convexity, recent advancements showcase how transforming nonconvex functions into SDP problems yields accurate lower bounds. Furthermore, we can tighten the gap between the solution to the original problem and the solution to the SDP by using a new algorithm discovered recently. We demonstrate this algorithm \"Autotight\" on a toy problem below."
      ],
      "metadata": {
        "id": "On2Yd3kCtE5U"
      }
    },
    {
      "cell_type": "markdown",
      "source": [
        "**Problem**:\n",
        "\n",
        " The pedagogical problem we seek to solve is\n",
        "\\begin{equation} \\tag{1}\n",
        "\\min_{\\theta} \\sum_{i=1}^{N}\\bigg(\\frac{1}{\\theta - a_{i}}\\bigg)^{2},\n",
        "\\end{equation}\n",
        "where $a_{i}$ is known.\n",
        "\n",
        "\n",
        "Let's begin by working our way up and examining optimization problems of the form\n",
        "\\begin{equation} \\tag{2}\n",
        "\\min_{\\theta \\in \\mathbb{R}^{d}} \\{c(\\theta)|h_{i}(\\theta)=0, \\; i \\in [N_{h}]\\},\n",
        "\\end{equation}\n",
        "where $\\theta$ is the decision variable, c(·) is the cost function, and $h_{i}$(·) are equality constraints. We can \"lift\" this function to a quadratically constrained quadratic program, in which the cost and contraint functions are quadratic. This turns equation 2 into\n",
        "\\begin{equation} \\tag{3}\n",
        "    \\min_{x \\in \\mathbb{R}^{N}} \\{f(x) | g_{i}(x) = 0, l_{j}(x) = 0, i \\in [N_{h}], j \\in [N_{l}]\\},\n",
        "\\end{equation}\n",
        "where f and $g_{i}$ are quadratic in the lifted vector x, and where the lifted vector is given by\n",
        "\\begin{equation*}\n",
        "    x^{T} = \\begin{bmatrix}\n",
        "        1 & \\theta^{T} & z_{1} & \\dots & z_{N_{l}}\n",
        "    \\end{bmatrix},\n",
        "\\end{equation*}\n",
        "where $z_{i}$ = $l_{i}(\\theta)$ := $\\frac{1}{\\theta - a_{i}}$. Notice we can write f(x) in equation 1 as\n",
        "\\begin{equation*}\n",
        "    f(x) = \\sum_{i = 1}^{N} x_{2 + i}^{2}.\n",
        "\\end{equation*}\n",
        "Furthermore, now that the functions in equation 3 are quadratic, we can rewrite the equation as\n",
        "\\begin{equation} \\tag{4}\n",
        "    \\min_{x \\in \\mathbb{R}^{N}} \\{x^{T}Qx | x^{T}A_{i}x = 0, i \\in [N_{A}]\\},\n",
        "\\end{equation}\n",
        "where Q is the cost matrix, $A_{i}$, $i \\in [N_{A}]$ are the constraint matrices, and $N_{A} = N_{l} + N_{h}$. For equation 1 specifically, the cost and constraint matrices are 0 for all values except for $Q[i, i] = 1$ for $i = 3, \\dots, N + 2$, $A_{i}[1, 2 + i] = A_{i}[2 + i, 1] = -a_{i}$, and $A_{i}[2, 2 + i] = A_{i}[2 + i, 2] = 1$. In other words,\n",
        "\\begin{equation}\n",
        "Q =\n",
        " \\begin{bmatrix}\n",
        " 0 & 0 & 0 & \\dots & 0\\\\\n",
        " 0 & 0 & 0 & \\dots & 0\\\\\n",
        " 0 & 0 & 1 & \\dots & 0\\\\\n",
        " 0 & 0 & 0 & \\ddots & \\vdots\\\\\n",
        " 0 & 0 & 0 & \\dots & 1\n",
        " \\end{bmatrix},\\\\\n",
        " A_{1} =\n",
        " \\begin{bmatrix}\n",
        " 0 & 0 & -a_{1} & 0 & \\dots & 0\\\\\n",
        " 0 & 0 & 1 & 0 & \\dots & 0\\\\\n",
        " -a_{1} & 1 & 0 & 0 & \\dots & 0\\\\\n",
        " 0 & 0 & 0 & 0 & \\dots & 0\\\\\n",
        " \\vdots & \\vdots & \\vdots & \\vdots & \\ddots & \\vdots \\\\\n",
        " 0 & 0 & 0 & 0 & 0 & 0\n",
        " \\end{bmatrix},\\\\\n",
        "A_{2} =\n",
        " \\begin{bmatrix}\n",
        " 0 & 0 & 0 & -a_{2} & 0 & \\dots & 0\\\\\n",
        " 0 & 0 & 0 & 1 & 0 & \\dots & 0\\\\\n",
        " 0 & 0 & 0 & 0 & 0 & \\dots & 0\\\\\n",
        " -a_{2} & 1 & 0 & 0 & 0 & \\dots & 0\\\\\n",
        " 0 & 0 & 0 & 0 & 0 & \\dots & 0\\\\\n",
        " \\vdots & \\vdots & \\vdots & \\vdots & \\vdots & \\ddots & \\vdots \\\\\n",
        " 0 & 0 & 0 & 0 & 0 & 0 & 0\n",
        " \\end{bmatrix}\n",
        "\\end{equation}\n",
        "and so on.\n",
        "\n",
        "Equation 4 is NP-Hard, so we introduce a common strategy to \"relax\" this problem to a semidefinite programming (SDP) problem. Let X := $xx^{T}$, where X is positive semidefinite $X \\succcurlyeq 0$ and rank(X) = 1. We can then solve the following SDP,\n",
        "\\begin{equation} \\tag{5}\n",
        "    \\min_{X \\in S_{+}^{N}} \\{ \\langle Q, X \\rangle |\\langle A_{i}, X \\rangle = 0, i \\in [N_{A}] \\},\n",
        "\\end{equation}\n",
        "where $\\langle \\cdot, \\cdot \\rangle$ is the inner product defined by multiplying the matrices together and taking the trace of the resulting matrix. Equation 5 is the primal relaxation of equation 4, where we relax the nonconvex rank(X) = 1 constraint. This is the equation we now seek to solve for the toy problem.\n",
        "\n",
        "We know that a solution X* is optimal if the rank(X) = 1. We call this \"rank tight,\" and from rank-tightness of the SDP relaxation, we can deduce \"strong duality,\" where the lower bound we find is indeed the global minimum on the function.\n",
        "\n",
        "We demonstrate the above technique with code as follows:\n"
      ],
      "metadata": {
        "id": "UH-ue0oOFy80"
      }
    },
    {
      "cell_type": "code",
      "source": [
        "#Pedagogical problem before Autotight\n",
        "n = 3\n",
        "a_array = np.array([4, 15, 2])\n",
        "np.random.seed(5)\n",
        "\n",
        "#Q matrix (cost)\n",
        "Q_mat = np.zeros([n+2, n+2])\n",
        "for i in range(2, n+2):\n",
        "  Q_mat[i, i] = 1\n",
        "\n",
        "#A_i matrices (constraint)\n",
        "#n matrices, each (n+2)x(n+2)\n",
        "A = np.zeros([n, n+2, n+2])\n",
        "\n",
        "#for each matrix\n",
        "for i in range(n):\n",
        "  A[i, 0, 2+i] = A[i, 2+i, 0] = -a_array[i]\n",
        "  A[i, 1, 2+i] = A[i, 2+i, 1] = 1\n",
        "\n",
        "#defining decision variable, objective, and constraints\n",
        "X = cp.Variable((n+2, n+2), symmetric=True)\n",
        "#X is PSD\n",
        "constraints = [X >> 0]\n",
        "constraints += [\n",
        "        cp.trace(A[i] @ X) == 0 for i in range(n)\n",
        "        ]\n",
        "\n",
        "prob = cp.Problem(cp.Minimize(cp.trace(Q_mat @ X)),\n",
        "                  constraints)\n",
        "prob.solve(solver=cp.MOSEK, verbose = False)\n",
        "\n",
        "eigenvalues = sorted(np.linalg.eigvals(X.value), reverse = True)\n",
        "print(\"The optimal value is\", prob.value)\n",
        "print(\"A solution X is\\n\", X.value)\n",
        "print(\"using X, the sum is\", np.sum([(1 / math.sqrt((X.value[1,1])) - a_array[i]) ** 2 for i in range(n)]))\n",
        "print(\"Ratio between two largest eigenvalues of X*: \", eigenvalues[0] / eigenvalues[1])"
      ],
      "metadata": {
        "colab": {
          "base_uri": "https://localhost:8080/",
          "height": 373
        },
        "id": "ax9AY8eOJEEK",
        "outputId": "b565bc0e-fa4a-4973-9c2f-7cd88af73ca1"
      },
      "execution_count": 3,
      "outputs": [
        {
          "output_type": "error",
          "ename": "SolverError",
          "evalue": "The solver MOSEK is not installed.",
          "traceback": [
            "\u001b[0;31m---------------------------------------------------------------------------\u001b[0m",
            "\u001b[0;31mSolverError\u001b[0m                               Traceback (most recent call last)",
            "\u001b[0;32m<ipython-input-3-37bf98c90a86>\u001b[0m in \u001b[0;36m<cell line: 30>\u001b[0;34m()\u001b[0m\n\u001b[1;32m     28\u001b[0m prob = cp.Problem(cp.Minimize(cp.trace(Q_mat @ X)),\n\u001b[1;32m     29\u001b[0m                   constraints)\n\u001b[0;32m---> 30\u001b[0;31m \u001b[0mprob\u001b[0m\u001b[0;34m.\u001b[0m\u001b[0msolve\u001b[0m\u001b[0;34m(\u001b[0m\u001b[0msolver\u001b[0m\u001b[0;34m=\u001b[0m\u001b[0mcp\u001b[0m\u001b[0;34m.\u001b[0m\u001b[0mMOSEK\u001b[0m\u001b[0;34m,\u001b[0m \u001b[0mverbose\u001b[0m \u001b[0;34m=\u001b[0m \u001b[0;32mFalse\u001b[0m\u001b[0;34m)\u001b[0m\u001b[0;34m\u001b[0m\u001b[0;34m\u001b[0m\u001b[0m\n\u001b[0m\u001b[1;32m     31\u001b[0m \u001b[0;34m\u001b[0m\u001b[0m\n\u001b[1;32m     32\u001b[0m \u001b[0meigenvalues\u001b[0m \u001b[0;34m=\u001b[0m \u001b[0msorted\u001b[0m\u001b[0;34m(\u001b[0m\u001b[0mnp\u001b[0m\u001b[0;34m.\u001b[0m\u001b[0mlinalg\u001b[0m\u001b[0;34m.\u001b[0m\u001b[0meigvals\u001b[0m\u001b[0;34m(\u001b[0m\u001b[0mX\u001b[0m\u001b[0;34m.\u001b[0m\u001b[0mvalue\u001b[0m\u001b[0;34m)\u001b[0m\u001b[0;34m,\u001b[0m \u001b[0mreverse\u001b[0m \u001b[0;34m=\u001b[0m \u001b[0;32mTrue\u001b[0m\u001b[0;34m)\u001b[0m\u001b[0;34m\u001b[0m\u001b[0;34m\u001b[0m\u001b[0m\n",
            "\u001b[0;32m/usr/local/lib/python3.10/dist-packages/cvxpy/problems/problem.py\u001b[0m in \u001b[0;36msolve\u001b[0;34m(self, *args, **kwargs)\u001b[0m\n\u001b[1;32m    493\u001b[0m         \u001b[0;32melse\u001b[0m\u001b[0;34m:\u001b[0m\u001b[0;34m\u001b[0m\u001b[0;34m\u001b[0m\u001b[0m\n\u001b[1;32m    494\u001b[0m             \u001b[0msolve_func\u001b[0m \u001b[0;34m=\u001b[0m \u001b[0mProblem\u001b[0m\u001b[0;34m.\u001b[0m\u001b[0m_solve\u001b[0m\u001b[0;34m\u001b[0m\u001b[0;34m\u001b[0m\u001b[0m\n\u001b[0;32m--> 495\u001b[0;31m         \u001b[0;32mreturn\u001b[0m \u001b[0msolve_func\u001b[0m\u001b[0;34m(\u001b[0m\u001b[0mself\u001b[0m\u001b[0;34m,\u001b[0m \u001b[0;34m*\u001b[0m\u001b[0margs\u001b[0m\u001b[0;34m,\u001b[0m \u001b[0;34m**\u001b[0m\u001b[0mkwargs\u001b[0m\u001b[0;34m)\u001b[0m\u001b[0;34m\u001b[0m\u001b[0;34m\u001b[0m\u001b[0m\n\u001b[0m\u001b[1;32m    496\u001b[0m \u001b[0;34m\u001b[0m\u001b[0m\n\u001b[1;32m    497\u001b[0m     \u001b[0;34m@\u001b[0m\u001b[0mclassmethod\u001b[0m\u001b[0;34m\u001b[0m\u001b[0;34m\u001b[0m\u001b[0m\n",
            "\u001b[0;32m/usr/local/lib/python3.10/dist-packages/cvxpy/problems/problem.py\u001b[0m in \u001b[0;36m_solve\u001b[0;34m(self, solver, warm_start, verbose, gp, qcp, requires_grad, enforce_dpp, ignore_dpp, canon_backend, **kwargs)\u001b[0m\n\u001b[1;32m   1054\u001b[0m                 \u001b[0;32mreturn\u001b[0m \u001b[0mself\u001b[0m\u001b[0;34m.\u001b[0m\u001b[0mvalue\u001b[0m\u001b[0;34m\u001b[0m\u001b[0;34m\u001b[0m\u001b[0m\n\u001b[1;32m   1055\u001b[0m \u001b[0;34m\u001b[0m\u001b[0m\n\u001b[0;32m-> 1056\u001b[0;31m         data, solving_chain, inverse_data = self.get_problem_data(\n\u001b[0m\u001b[1;32m   1057\u001b[0m             \u001b[0msolver\u001b[0m\u001b[0;34m,\u001b[0m \u001b[0mgp\u001b[0m\u001b[0;34m,\u001b[0m \u001b[0menforce_dpp\u001b[0m\u001b[0;34m,\u001b[0m \u001b[0mignore_dpp\u001b[0m\u001b[0;34m,\u001b[0m \u001b[0mverbose\u001b[0m\u001b[0;34m,\u001b[0m \u001b[0mcanon_backend\u001b[0m\u001b[0;34m,\u001b[0m \u001b[0mkwargs\u001b[0m\u001b[0;34m\u001b[0m\u001b[0;34m\u001b[0m\u001b[0m\n\u001b[1;32m   1058\u001b[0m         )\n",
            "\u001b[0;32m/usr/local/lib/python3.10/dist-packages/cvxpy/problems/problem.py\u001b[0m in \u001b[0;36mget_problem_data\u001b[0;34m(self, solver, gp, enforce_dpp, ignore_dpp, verbose, canon_backend, solver_opts)\u001b[0m\n\u001b[1;32m    631\u001b[0m         \u001b[0;32mif\u001b[0m \u001b[0mkey\u001b[0m \u001b[0;34m!=\u001b[0m \u001b[0mself\u001b[0m\u001b[0;34m.\u001b[0m\u001b[0m_cache\u001b[0m\u001b[0;34m.\u001b[0m\u001b[0mkey\u001b[0m\u001b[0;34m:\u001b[0m\u001b[0;34m\u001b[0m\u001b[0;34m\u001b[0m\u001b[0m\n\u001b[1;32m    632\u001b[0m             \u001b[0mself\u001b[0m\u001b[0;34m.\u001b[0m\u001b[0m_cache\u001b[0m\u001b[0;34m.\u001b[0m\u001b[0minvalidate\u001b[0m\u001b[0;34m(\u001b[0m\u001b[0;34m)\u001b[0m\u001b[0;34m\u001b[0m\u001b[0;34m\u001b[0m\u001b[0m\n\u001b[0;32m--> 633\u001b[0;31m             solving_chain = self._construct_chain(\n\u001b[0m\u001b[1;32m    634\u001b[0m                 \u001b[0msolver\u001b[0m\u001b[0;34m=\u001b[0m\u001b[0msolver\u001b[0m\u001b[0;34m,\u001b[0m \u001b[0mgp\u001b[0m\u001b[0;34m=\u001b[0m\u001b[0mgp\u001b[0m\u001b[0;34m,\u001b[0m\u001b[0;34m\u001b[0m\u001b[0;34m\u001b[0m\u001b[0m\n\u001b[1;32m    635\u001b[0m                 \u001b[0menforce_dpp\u001b[0m\u001b[0;34m=\u001b[0m\u001b[0menforce_dpp\u001b[0m\u001b[0;34m,\u001b[0m\u001b[0;34m\u001b[0m\u001b[0;34m\u001b[0m\u001b[0m\n",
            "\u001b[0;32m/usr/local/lib/python3.10/dist-packages/cvxpy/problems/problem.py\u001b[0m in \u001b[0;36m_construct_chain\u001b[0;34m(self, solver, gp, enforce_dpp, ignore_dpp, canon_backend, solver_opts)\u001b[0m\n\u001b[1;32m    881\u001b[0m         \u001b[0mA\u001b[0m \u001b[0msolving\u001b[0m \u001b[0mchain\u001b[0m\u001b[0;34m\u001b[0m\u001b[0;34m\u001b[0m\u001b[0m\n\u001b[1;32m    882\u001b[0m         \"\"\"\n\u001b[0;32m--> 883\u001b[0;31m         \u001b[0mcandidate_solvers\u001b[0m \u001b[0;34m=\u001b[0m \u001b[0mself\u001b[0m\u001b[0;34m.\u001b[0m\u001b[0m_find_candidate_solvers\u001b[0m\u001b[0;34m(\u001b[0m\u001b[0msolver\u001b[0m\u001b[0;34m=\u001b[0m\u001b[0msolver\u001b[0m\u001b[0;34m,\u001b[0m \u001b[0mgp\u001b[0m\u001b[0;34m=\u001b[0m\u001b[0mgp\u001b[0m\u001b[0;34m)\u001b[0m\u001b[0;34m\u001b[0m\u001b[0;34m\u001b[0m\u001b[0m\n\u001b[0m\u001b[1;32m    884\u001b[0m         \u001b[0mself\u001b[0m\u001b[0;34m.\u001b[0m\u001b[0m_sort_candidate_solvers\u001b[0m\u001b[0;34m(\u001b[0m\u001b[0mcandidate_solvers\u001b[0m\u001b[0;34m)\u001b[0m\u001b[0;34m\u001b[0m\u001b[0;34m\u001b[0m\u001b[0m\n\u001b[1;32m    885\u001b[0m         return construct_solving_chain(self, candidate_solvers, gp=gp,\n",
            "\u001b[0;32m/usr/local/lib/python3.10/dist-packages/cvxpy/problems/problem.py\u001b[0m in \u001b[0;36m_find_candidate_solvers\u001b[0;34m(self, solver, gp)\u001b[0m\n\u001b[1;32m    744\u001b[0m         \u001b[0;32mif\u001b[0m \u001b[0msolver\u001b[0m \u001b[0;32mis\u001b[0m \u001b[0;32mnot\u001b[0m \u001b[0;32mNone\u001b[0m\u001b[0;34m:\u001b[0m\u001b[0;34m\u001b[0m\u001b[0;34m\u001b[0m\u001b[0m\n\u001b[1;32m    745\u001b[0m             \u001b[0;32mif\u001b[0m \u001b[0msolver\u001b[0m \u001b[0;32mnot\u001b[0m \u001b[0;32min\u001b[0m \u001b[0mslv_def\u001b[0m\u001b[0;34m.\u001b[0m\u001b[0mINSTALLED_SOLVERS\u001b[0m\u001b[0;34m:\u001b[0m\u001b[0;34m\u001b[0m\u001b[0;34m\u001b[0m\u001b[0m\n\u001b[0;32m--> 746\u001b[0;31m                 \u001b[0;32mraise\u001b[0m \u001b[0merror\u001b[0m\u001b[0;34m.\u001b[0m\u001b[0mSolverError\u001b[0m\u001b[0;34m(\u001b[0m\u001b[0;34m\"The solver %s is not installed.\"\u001b[0m \u001b[0;34m%\u001b[0m \u001b[0msolver\u001b[0m\u001b[0;34m)\u001b[0m\u001b[0;34m\u001b[0m\u001b[0;34m\u001b[0m\u001b[0m\n\u001b[0m\u001b[1;32m    747\u001b[0m             \u001b[0;32mif\u001b[0m \u001b[0msolver\u001b[0m \u001b[0;32min\u001b[0m \u001b[0mslv_def\u001b[0m\u001b[0;34m.\u001b[0m\u001b[0mCONIC_SOLVERS\u001b[0m\u001b[0;34m:\u001b[0m\u001b[0;34m\u001b[0m\u001b[0;34m\u001b[0m\u001b[0m\n\u001b[1;32m    748\u001b[0m                 \u001b[0mcandidates\u001b[0m\u001b[0;34m[\u001b[0m\u001b[0;34m'conic_solvers'\u001b[0m\u001b[0;34m]\u001b[0m \u001b[0;34m+=\u001b[0m \u001b[0;34m[\u001b[0m\u001b[0msolver\u001b[0m\u001b[0;34m]\u001b[0m\u001b[0;34m\u001b[0m\u001b[0;34m\u001b[0m\u001b[0m\n",
            "\u001b[0;31mSolverError\u001b[0m: The solver MOSEK is not installed."
          ]
        }
      ]
    },
    {
      "cell_type": "markdown",
      "source": [
        "From running the code, we see that the solution is not rank tight, and rank($X^*$) does not equal 1.\n",
        "\n",
        "In the below figure, we visualize a generic function, its SDP relaxation, and its Lagrangian dual. In this figure, $\\: d^{*}$ is the Lagrandian dual of the SDP, $\\; p^{*}$ is the solution to the relaxed SDP, and $\\; q^{*}$ is the solution to the original function.\n",
        "\n",
        "![image.png](data:image/png;base64,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)\n",
        "\n",
        "In the above implementation, the gap between the solution to the SDP $p^{*}$ and the solution to the original optimization problem $q^{*}$ is not tight. Our goal is the decrease this gap and therefore increase the tightness of the solution. We can accomplish this by reducing the rank of $X^*$, and we can accomplish this by adding \"redundant constraints\" to the problem. These constraints are redundant in the QCQP, but may change the feasible region of the SDP. In particular, they may reimpose structure lost by relaxing the rank-one constraint. By reducing the rank of the matrix, we improve the tightness of the solution. However, finding these redundant constraints can be difficult and tedious manual process, so we introduce the Autotight algorithm, which seeks to find these constraints through a semi-automatic process.\n"
      ],
      "metadata": {
        "id": "RgEDeslUJH-3"
      }
    },
    {
      "cell_type": "markdown",
      "source": [
        "**The Autotight Algorithm**\n",
        "\n",
        "\n",
        "The idea behind Autotight is that all of the constraint matrices $A_{i}$ are in the nullspace of the linear subspace spanned by the feasible points. We first generate feasible samples $\\theta^{(s)}$, and with these samples we can create lifted samples $\\chi = \\{x^{(1)}, \\dots, x^{(N_{s})} \\}$, with $x^{s}$ created using the known lifting function. We then have\n",
        "\\begin{equation*}\n",
        "    \\langle A_{i}, X^{(s)} \\rangle = 0,\n",
        "\\end{equation*}\n",
        "where $X^{(s)} = x^{(s)}x^{(s)^{T}}$. We can then formulate our data matrix Y as\n",
        "\\begin{equation*}\n",
        "    Y = [\\text{vech}(X^{(1)}) \\dots \\text{vech}(X^{N_{s}})] \\in \\mathbb{R}^{n x N_{s}}.\n",
        "\\end{equation*}\n",
        "Our learned redundant constraints $A_{l}$ that we seek to find are in the left nullspace of our data matrix Y.\n",
        "\\begin{equation*}\n",
        "    A_{l} = \\{A_{1}, \\dots, A_{N_{n}} \\} = \\{\\text{vech}^{-1}(a_{i}) | a_{i}^{T}Y = 0\\}\n",
        "\\end{equation*}\n",
        "We can calculate this nullspace basis using a QR decomposition, which induces sparsity, leading to lower memory and time consumption and increased interpretability. The vectors in the null of Q of the QR factorization on Y are our learned constraints, and we can add them to the constraints to induce rank-tightness."
      ],
      "metadata": {
        "id": "rY2O21E_PNo1"
      }
    },
    {
      "cell_type": "code",
      "source": [
        "#Autotight Algorithm\n",
        "\n",
        "#half vectorization function\n",
        "def vech(matrix):\n",
        "     if len(matrix) != len(matrix[0]):\n",
        "         raise ValueError(\"not a square matrix\")\n",
        "     rows = int((len(matrix)*(len(matrix)+1))/2)\n",
        "     newVec = np.zeros([rows, 1])\n",
        "     index = 0\n",
        "     for col in range(len(matrix[0])):\n",
        "         for row in range(col + 1):\n",
        "             if row == col:\n",
        "                 newVec[index][0] = matrix[row][col] / math.sqrt(2)\n",
        "                 index += 1\n",
        "             else:\n",
        "                 newVec[index][0] = matrix[row][col]\n",
        "                 index += 1\n",
        "     return newVec\n",
        "\n",
        "#inverse half vectorization, which creates a symmetric matrix\n",
        "def inv_vech(vech):\n",
        "    vech_flat = vech.flatten()\n",
        "    n = len(vech_flat)\n",
        "    mat_size = int(math.sqrt(2 * n + (1/4)) - (1/2))\n",
        "\n",
        "    A = populateUpperTri(mat_size, vech_flat)\n",
        "    A = A + A.T\n",
        "    np.fill_diagonal(A, np.diagonal(A) / 2)\n",
        "    return A\n",
        "\n",
        "def populateUpperTri(mat_size, vec):\n",
        "    A = np.zeros([mat_size, mat_size])\n",
        "    index = 0\n",
        "    for col in range(mat_size):\n",
        "        for row in range(col + 1):\n",
        "            if row == col:\n",
        "                A[row][col] = vec[index] * math.sqrt(2)\n",
        "                index += 1\n",
        "            else:\n",
        "                A[row][col] = vec[index]\n",
        "                index += 1\n",
        "    return A\n",
        "\n",
        "#formulates the Y data matrix\n",
        "def formulateY(N):\n",
        "    print(\"N = \", N)\n",
        "    vech_size = int(N)\n",
        "    total_pts = int(1.2 * N)\n",
        "    Y = np.empty([vech_size, 0])\n",
        "    for i in range(total_pts):\n",
        "        theta = np.random.rand(1)\n",
        "        z_vals = 1 / (theta - a_array)\n",
        "        x_feas = np.hstack(([1], theta, z_vals)) #creates the lifted vector\n",
        "        Y = np.hstack((Y, vech(x_feas[None, :].T @ x_feas[None, :])))\n",
        "    return Y\n",
        "\n",
        "big_N = (n+2)*(n+3)/2\n",
        "Y = formulateY(big_N)\n",
        "print(\"shape of Y: \", Y.shape)\n",
        "\n",
        "#QR factorization\n",
        "Q, R = sp.linalg.qr(Y)\n",
        "learned_constraints = Q[:, np.linalg.matrix_rank(Y) + 1:]\n",
        "print(\"learned constraints shape: \", learned_constraints.shape)"
      ],
      "metadata": {
        "id": "m2SiaeLKvjiw"
      },
      "execution_count": null,
      "outputs": []
    },
    {
      "cell_type": "markdown",
      "source": [
        "Now that we've found the learned redundant constraints, let's add them to the constraints of the problem and solve the problem again."
      ],
      "metadata": {
        "id": "WMhegrlDSOt6"
      }
    },
    {
      "cell_type": "code",
      "source": [
        "#these are the inverse vech of the learned constraint column vectors\n",
        "constraints.clear()\n",
        "constraints += [X >> 0]\n",
        "constraints += [\n",
        "        cp.trace(inv_vech(learned_constraints[:, i]) @ X) == 0 for i in range(len(learned_constraints[0]))\n",
        "        ]\n",
        "constraints += [\n",
        "        X[0][0] == 1\n",
        "        ]\n",
        "prob = cp.Problem(cp.Minimize(cp.trace(Q_mat @ X)),\n",
        "                  constraints)\n",
        "prob.solve(solver=cp.MOSEK, verbose = False)\n",
        "\n",
        "\n",
        "# Print result.\n",
        "print(\"The optimal value is\", prob.value)\n",
        "print(\"A solution X is\\n\", X.value)\n",
        "print(\"using X, the sum is\", np.sum([(1 / (X.value[0,1] - a_array[i])) ** 2 for i in range(n)]))\n",
        "\n",
        "#checking for rank tightness by comparing greatest two eigenvalues\n",
        "eigenvalues = sorted(np.linalg.eigvals(X.value), reverse = True)\n",
        "print(\"Ratio between two largest eigenvalues of X*: \", eigenvalues[0] / eigenvalues[1])\n",
        "\n",
        "#from matplotlib import pyplot as plt\n",
        "#plt.spy(inv_vech(learned_constraints[:,0]))\n"
      ],
      "metadata": {
        "id": "lVV8pchMvmsH"
      },
      "execution_count": null,
      "outputs": []
    },
    {
      "cell_type": "markdown",
      "source": [
        "**Solution and implications:**\n",
        "\n",
        "We determine rank-tightness by finding the ratio of the two largest eigenvalues of the solution $X^{*}$. If this ratio is suffiently large, we say that the solution has rank one. As this solution is rank one, we can say we have rank-tightness, and therefore the lower bound this solution gives is equal to the global minimum of the function.\n",
        "\n",
        "\n"
      ],
      "metadata": {
        "id": "_hgsUfBzvyuT"
      }
    },
    {
      "cell_type": "markdown",
      "source": [
        "**Future Considerations:**\n",
        "\n",
        "The next steps are to vectorize the code. Vectorizing the helper functions created above would allow us to take advantage of parallel computing, drastically decreasing time consumption of the code. Additionally, we can continue to build on this code and move onto the Autotemplate, which allows us to generalize Autotight and apply it to other optimization problems. Finally, I can continue to learn more about optimization. This journey immersing myself in research papers and optimization concepts has been a blast, and I am excited to continue this journey!"
      ],
      "metadata": {
        "id": "pEcXGfkxv3-Q"
      }
    },
    {
      "cell_type": "markdown",
      "source": [
        "**References**\n",
        "\n",
        "Axler, Sheldon. Linear Algebra Done Right. 25 Mar. 2024.\n",
        "\n",
        "Boyd, Stephen, and Lieven Vandenberghe. Convex Optimization. 2014.\n",
        "\n",
        "Dümbgen, Frederike, et al. Toward Globally Optimal State Estimation Using Automatically Tightened Semidefinite Relaxations. 8 Sept. 2023.\n",
        "\n",
        "\n",
        "\n",
        "\n",
        "\n"
      ],
      "metadata": {
        "id": "Kqkwrh_PMgIT"
      }
    }
  ]
}